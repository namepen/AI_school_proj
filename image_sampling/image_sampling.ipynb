{
 "cells": [
  {
   "cell_type": "markdown",
   "metadata": {},
   "source": [
    "## Make npy File "
   ]
  },
  {
   "cell_type": "markdown",
   "metadata": {},
   "source": [
    "### Image Preprocess"
   ]
  },
  {
   "cell_type": "code",
   "execution_count": 1,
   "metadata": {},
   "outputs": [],
   "source": [
    "### Setting\n",
    "import numpy as np\n",
    "import PIL\n",
    "import matplotlib.pyplot as plt\n",
    "import cv2"
   ]
  },
  {
   "cell_type": "markdown",
   "metadata": {},
   "source": [
    "### Sample 'omniglot_data.npy' shape"
   ]
  },
  {
   "cell_type": "code",
   "execution_count": 4,
   "metadata": {},
   "outputs": [
    {
     "data": {
      "text/plain": [
       "(1622, 20, 28, 28, 1)"
      ]
     },
     "execution_count": 4,
     "metadata": {},
     "output_type": "execute_result"
    }
   ],
   "source": [
    "sample = np.load('./DAGAN-master/DAGAN-master/datasets/omniglot_data.npy')\n",
    "sample.shape"
   ]
  },
  {
   "cell_type": "markdown",
   "metadata": {},
   "source": [
    "num_of_class, sample_num, h, w, chanel"
   ]
  },
  {
   "cell_type": "code",
   "execution_count": 5,
   "metadata": {},
   "outputs": [],
   "source": [
    "a = np.squeeze(sample[20][19],axis=2)"
   ]
  },
  {
   "cell_type": "code",
   "execution_count": 6,
   "metadata": {},
   "outputs": [
    {
     "data": {
      "text/plain": [
       "<matplotlib.image.AxesImage at 0x19b4d729780>"
      ]
     },
     "execution_count": 6,
     "metadata": {},
     "output_type": "execute_result"
    },
    {
     "data": {
      "image/png": "[encoded data removed]",
      "text/plain": [
       "<Figure size 432x288 with 1 Axes>"
      ]
     },
     "metadata": {},
     "output_type": "display_data"
    }
   ],
   "source": [
    "plt.imshow(a)"
   ]
  },
  {
   "cell_type": "markdown",
   "metadata": {},
   "source": [
    "1622개의 데이터, 20개의 num_of_class, 28 * 28 의 grayscale Image"
   ]
  },
  {
   "cell_type": "markdown",
   "metadata": {},
   "source": [
    "### Load image by PIL\n",
    "\n",
    "* How to convert grayScale?\n",
    "\n",
    "https://stackoverflow.com/questions/12201577/how-can-i-convert-an-rgb-image-into-grayscale-in-python"
   ]
  },
  {
   "cell_type": "code",
   "execution_count": 14,
   "metadata": {},
   "outputs": [],
   "source": [
    "#sample img load\n",
    "str = './train/img_'\n",
    "dir = str + '2' + '.jpg'\n",
    "\n",
    "img = PIL.Image.open(dir) \n",
    "#img2 = PIL.Image.open(dir).convert('L') #grayscale로 불러옴"
   ]
  },
  {
   "cell_type": "code",
   "execution_count": 15,
   "metadata": {},
   "outputs": [
    {
     "data": {
      "text/plain": [
       "<matplotlib.image.AxesImage at 0x23c695c7c18>"
      ]
     },
     "execution_count": 15,
     "metadata": {},
     "output_type": "execute_result"
    },
    {
     "data": {
      "image/png": "[encoded data removed]",
      "text/plain": [
       "<Figure size 432x288 with 1 Axes>"
      ]
     },
     "metadata": {},
     "output_type": "display_data"
    }
   ],
   "source": [
    "plt.imshow(img)"
   ]
  },
  {
   "cell_type": "code",
   "execution_count": 6,
   "metadata": {},
   "outputs": [
    {
     "data": {
      "text/plain": [
       "(28, 28, 3)"
      ]
     },
     "execution_count": 6,
     "metadata": {},
     "output_type": "execute_result"
    }
   ],
   "source": [
    "np.array(img).shape"
   ]
  },
  {
   "cell_type": "code",
   "execution_count": 9,
   "metadata": {},
   "outputs": [],
   "source": [
    "#define function\n",
    "def image_preprocessing(image):\n",
    "    \"\"\"image preprocessing\n",
    "    transform image pixel value: int [0, 255] -> float [0, 1.0]\n",
    "\n",
    "      Args:\n",
    "        image: PIL image format\n",
    "  \n",
    "      Returns:\n",
    "        image: float type numpy array with shape [1, image_h, image_w, 1] which is in [0, 1]\n",
    "    \"\"\"\n",
    "    #image = np.asarray(image) / 255 # image in [0, 1]\n",
    "    \n",
    "    image = np.expand_dims(image, axis=0)\n",
    "    return image"
   ]
  },
  {
   "cell_type": "code",
   "execution_count": 10,
   "metadata": {},
   "outputs": [
    {
     "data": {
      "text/plain": [
       "(1, 28, 28, 3)"
      ]
     },
     "execution_count": 10,
     "metadata": {},
     "output_type": "execute_result"
    }
   ],
   "source": [
    "image_preprocessing(img).shape"
   ]
  },
  {
   "cell_type": "markdown",
   "metadata": {},
   "source": [
    "### Make Numpy array"
   ]
  },
  {
   "cell_type": "markdown",
   "metadata": {},
   "source": [
    "1 28 28 3 -> 1 100 28 28 3 -> 7 100 28 28 3"
   ]
  },
  {
   "cell_type": "code",
   "execution_count": 11,
   "metadata": {},
   "outputs": [],
   "source": [
    "#parameter\n",
    "init_shape = image_preprocessing(img).shape\n",
    "sam_list = np.expand_dims(np.zeros([100, 28, 28, 3]), axis=0)"
   ]
  },
  {
   "cell_type": "code",
   "execution_count": 12,
   "metadata": {},
   "outputs": [
    {
     "name": "stdout",
     "output_type": "stream",
     "text": [
      "(1, 28, 28, 3)\n",
      "(1, 100, 28, 28, 3)\n"
     ]
    }
   ],
   "source": [
    "print(init_shape)\n",
    "print(sam_list.shape)"
   ]
  },
  {
   "cell_type": "code",
   "execution_count": 16,
   "metadata": {},
   "outputs": [
    {
     "name": "stdout",
     "output_type": "stream",
     "text": [
      "0\n",
      "(1, 100, 28, 28, 3)\n",
      "1\n",
      "(1, 100, 28, 28, 3)\n",
      "2\n",
      "(1, 100, 28, 28, 3)\n",
      "3\n",
      "(1, 100, 28, 28, 3)\n",
      "4\n",
      "(1, 100, 28, 28, 3)\n",
      "5\n",
      "(1, 100, 28, 28, 3)\n",
      "6\n",
      "(1, 100, 28, 28, 3)\n"
     ]
    }
   ],
   "source": [
    "data = np.array(np.zeros(init_shape))\n",
    "sam_list = np.expand_dims(np.zeros([100, 28, 28, 3]), axis=0)\n",
    "\n",
    "for a in range(7):\n",
    "    print(a)\n",
    "    for i in range((a*100), (a+1) * 100):\n",
    "        str = './train/img_'\n",
    "        dir = str + np.str(i) + '.jpg'\n",
    "\n",
    "        img = PIL.Image.open(dir)\n",
    "        img = image_preprocessing(img)\n",
    "        if i ==(a*100):\n",
    "            data = np.array(img)\n",
    "            pass\n",
    "        else:\n",
    "            data2 = np.array(img)\n",
    "            data = np.concatenate((data,data2), axis=0)    \n",
    "    data = np.expand_dims(data, axis=0)\n",
    "    print(data.shape)\n",
    "    sam_list = np.concatenate((sam_list, data), axis=0)\n",
    "    data = np.array(np.zeros(init_shape))"
   ]
  },
  {
   "cell_type": "code",
   "execution_count": 17,
   "metadata": {},
   "outputs": [
    {
     "data": {
      "text/plain": [
       "(8, 100, 28, 28, 3)"
      ]
     },
     "execution_count": 17,
     "metadata": {},
     "output_type": "execute_result"
    }
   ],
   "source": [
    "sam_list.shape"
   ]
  },
  {
   "cell_type": "code",
   "execution_count": null,
   "metadata": {},
   "outputs": [],
   "source": [
    "data = np.expand_dims(data, axis=0)\n",
    "print(data.shape)"
   ]
  },
  {
   "cell_type": "code",
   "execution_count": null,
   "metadata": {},
   "outputs": [],
   "source": [
    "#delete init_data\n",
    "data = np.delete(data, 0, axis=1)"
   ]
  },
  {
   "cell_type": "code",
   "execution_count": null,
   "metadata": {},
   "outputs": [],
   "source": [
    "data.shape"
   ]
  },
  {
   "cell_type": "markdown",
   "metadata": {},
   "source": [
    "### Save npy File"
   ]
  },
  {
   "cell_type": "code",
   "execution_count": 18,
   "metadata": {},
   "outputs": [],
   "source": [
    "np.save('train_data_6.npy', sam_list)"
   ]
  },
  {
   "cell_type": "code",
   "execution_count": null,
   "metadata": {},
   "outputs": [],
   "source": [
    "class OmniglotImbalancedDAGANDataset(DAGANImbalancedDataset):\n",
    "    def __init__(self, batch_size, last_training_class_index, reverse_channels, num_of_gpus, gen_batches):\n",
    "        super(OmniglotImbalancedDAGANDataset, self).__init__(batch_size, last_training_class_index, reverse_channels,\n",
    "                                                             num_of_gpus, gen_batches)\n",
    "    def load_dataset(self, last_training_class_index):\n",
    "        x = np.load(\"datasets/omniglot_data.npy\")\n",
    "        x_temp = []\n",
    "        for i in range(x.shape[0]):\n",
    "            choose_samples = np.random.choice([i for i in range(1, 15)])\n",
    "            x_temp.append(x[i, :choose_samples])\n",
    "        self.x = np.array(x_temp)\n",
    "        self.x = self.x / np.max(self.x)\n",
    "        x_train, x_test, x_val = self.x[:1200], self.x[1200:1600], self.x[1600:]\n",
    "        x_train = x_train[:last_training_class_index]\n",
    "\n",
    "        return x_train, x_test, x_val"
   ]
  },
  {
   "cell_type": "markdown",
   "metadata": {},
   "source": [
    "* 참고사이트\n",
    "    http://woongheelee.com/entry/%EC%97%90%EB%9F%AC-%ED%95%B4%EA%B2%B0-ImportError-libcublasso90-cannot-open-shared-object-file-No-such-file-or-directory\n",
    "    \n",
    "    https://stackoverflow.com/questions/50560395/how-to-install-cuda-in-google-colab-gpus\n",
    "    \n",
    "    https://stackoverflow.com/questions/49684495/is-it-possible-to-set-environment-variables-in-google-colaboratory"
   ]
  }
 ],
 "metadata": {
  "kernelspec": {
   "display_name": "Python 3",
   "language": "python",
   "name": "python3"
  },
  "language_info": {
   "codemirror_mode": {
    "name": "ipython",
    "version": 3
   },
   "file_extension": ".py",
   "mimetype": "text/x-python",
   "name": "python",
   "nbconvert_exporter": "python",
   "pygments_lexer": "ipython3",
   "version": "3.6.5"
  }
 },
 "nbformat": 4,
 "nbformat_minor": 2
}
